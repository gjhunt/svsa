{
 "cells": [
  {
   "cell_type": "markdown",
   "metadata": {},
   "source": [
    "# How to use SVSA to learn and predict lineshapes"
   ]
  },
  {
   "cell_type": "markdown",
   "metadata": {},
   "source": [
    "First we import the package as well as numpy"
   ]
  },
  {
   "cell_type": "code",
   "execution_count": 1,
   "metadata": {},
   "outputs": [],
   "source": [
    "import svsa\n",
    "import numpy as np"
   ]
  },
  {
   "cell_type": "markdown",
   "metadata": {},
   "source": [
    "In order to train the SVSA model we need to have some training data. We'll use the built-in Tenti S6 model to generate RB scattering lineshapes."
   ]
  },
  {
   "cell_type": "code",
   "execution_count": 2,
   "metadata": {},
   "outputs": [],
   "source": [
    "train_lineshapes, train_params, xs = svsa.gen_spectra(y_seq=np.linspace(0,2,num=5),\n",
    "                                                            ri_seq=np.linspace(1.5,3,num=2),\n",
    "                                                            ef_seq=np.linspace(1.8,2,num=5),\n",
    "                                                            ci_seq=np.array([1]),\n",
    "                                                            ct_seq=np.array([1.5]),\n",
    "                                                            x_seq=np.linspace(-3,3,num=100))"
   ]
  },
  {
   "cell_type": "markdown",
   "metadata": {},
   "source": [
    "this generates an array of training lineshapes for the given (50) parameters over the (100) values of x"
   ]
  },
  {
   "cell_type": "code",
   "execution_count": 3,
   "metadata": {},
   "outputs": [
    {
     "name": "stdout",
     "output_type": "stream",
     "text": [
      "(50, 5)\n"
     ]
    },
    {
     "data": {
      "text/html": [
       "<div>\n",
       "<style scoped>\n",
       "    .dataframe tbody tr th:only-of-type {\n",
       "        vertical-align: middle;\n",
       "    }\n",
       "\n",
       "    .dataframe tbody tr th {\n",
       "        vertical-align: top;\n",
       "    }\n",
       "\n",
       "    .dataframe thead th {\n",
       "        text-align: right;\n",
       "    }\n",
       "</style>\n",
       "<table border=\"1\" class=\"dataframe\">\n",
       "  <thead>\n",
       "    <tr style=\"text-align: right;\">\n",
       "      <th></th>\n",
       "      <th>y</th>\n",
       "      <th>rlx_int</th>\n",
       "      <th>eukenf</th>\n",
       "      <th>c_int</th>\n",
       "      <th>c_tr</th>\n",
       "    </tr>\n",
       "  </thead>\n",
       "  <tbody>\n",
       "    <tr>\n",
       "      <th>0</th>\n",
       "      <td>0.0</td>\n",
       "      <td>1.5</td>\n",
       "      <td>1.80</td>\n",
       "      <td>1.0</td>\n",
       "      <td>1.5</td>\n",
       "    </tr>\n",
       "    <tr>\n",
       "      <th>1</th>\n",
       "      <td>0.0</td>\n",
       "      <td>1.5</td>\n",
       "      <td>1.85</td>\n",
       "      <td>1.0</td>\n",
       "      <td>1.5</td>\n",
       "    </tr>\n",
       "    <tr>\n",
       "      <th>2</th>\n",
       "      <td>0.0</td>\n",
       "      <td>1.5</td>\n",
       "      <td>1.90</td>\n",
       "      <td>1.0</td>\n",
       "      <td>1.5</td>\n",
       "    </tr>\n",
       "    <tr>\n",
       "      <th>3</th>\n",
       "      <td>0.0</td>\n",
       "      <td>1.5</td>\n",
       "      <td>1.95</td>\n",
       "      <td>1.0</td>\n",
       "      <td>1.5</td>\n",
       "    </tr>\n",
       "    <tr>\n",
       "      <th>4</th>\n",
       "      <td>0.0</td>\n",
       "      <td>1.5</td>\n",
       "      <td>2.00</td>\n",
       "      <td>1.0</td>\n",
       "      <td>1.5</td>\n",
       "    </tr>\n",
       "  </tbody>\n",
       "</table>\n",
       "</div>"
      ],
      "text/plain": [
       "     y  rlx_int  eukenf  c_int  c_tr\n",
       "0  0.0      1.5    1.80    1.0   1.5\n",
       "1  0.0      1.5    1.85    1.0   1.5\n",
       "2  0.0      1.5    1.90    1.0   1.5\n",
       "3  0.0      1.5    1.95    1.0   1.5\n",
       "4  0.0      1.5    2.00    1.0   1.5"
      ]
     },
     "execution_count": 3,
     "metadata": {},
     "output_type": "execute_result"
    }
   ],
   "source": [
    "print(train_params.shape)\n",
    "train_params[0:5] # first five training parameters"
   ]
  },
  {
   "cell_type": "code",
   "execution_count": 4,
   "metadata": {},
   "outputs": [
    {
     "name": "stdout",
     "output_type": "stream",
     "text": [
      "(100,)\n"
     ]
    },
    {
     "data": {
      "text/plain": [
       "array([-3.        , -2.93939394, -2.87878788, -2.81818182, -2.75757576])"
      ]
     },
     "execution_count": 4,
     "metadata": {},
     "output_type": "execute_result"
    }
   ],
   "source": [
    "print(xs.shape)\n",
    "xs[0:5] # first five x values used to train"
   ]
  },
  {
   "cell_type": "code",
   "execution_count": 5,
   "metadata": {
    "scrolled": true
   },
   "outputs": [
    {
     "name": "stdout",
     "output_type": "stream",
     "text": [
      "(50, 100)\n"
     ]
    },
    {
     "data": {
      "text/html": [
       "<div>\n",
       "<style scoped>\n",
       "    .dataframe tbody tr th:only-of-type {\n",
       "        vertical-align: middle;\n",
       "    }\n",
       "\n",
       "    .dataframe tbody tr th {\n",
       "        vertical-align: top;\n",
       "    }\n",
       "\n",
       "    .dataframe thead th {\n",
       "        text-align: right;\n",
       "    }\n",
       "</style>\n",
       "<table border=\"1\" class=\"dataframe\">\n",
       "  <thead>\n",
       "    <tr style=\"text-align: right;\">\n",
       "      <th></th>\n",
       "      <th>0</th>\n",
       "      <th>1</th>\n",
       "      <th>2</th>\n",
       "      <th>3</th>\n",
       "      <th>4</th>\n",
       "      <th>5</th>\n",
       "      <th>6</th>\n",
       "      <th>7</th>\n",
       "      <th>8</th>\n",
       "      <th>9</th>\n",
       "      <th>...</th>\n",
       "      <th>90</th>\n",
       "      <th>91</th>\n",
       "      <th>92</th>\n",
       "      <th>93</th>\n",
       "      <th>94</th>\n",
       "      <th>95</th>\n",
       "      <th>96</th>\n",
       "      <th>97</th>\n",
       "      <th>98</th>\n",
       "      <th>99</th>\n",
       "    </tr>\n",
       "  </thead>\n",
       "  <tbody>\n",
       "    <tr>\n",
       "      <th>0</th>\n",
       "      <td>0.000437</td>\n",
       "      <td>0.000627</td>\n",
       "      <td>0.000892</td>\n",
       "      <td>0.00126</td>\n",
       "      <td>0.001767</td>\n",
       "      <td>0.002459</td>\n",
       "      <td>0.003397</td>\n",
       "      <td>0.004659</td>\n",
       "      <td>0.006343</td>\n",
       "      <td>0.008572</td>\n",
       "      <td>...</td>\n",
       "      <td>0.008572</td>\n",
       "      <td>0.006343</td>\n",
       "      <td>0.004659</td>\n",
       "      <td>0.003397</td>\n",
       "      <td>0.002459</td>\n",
       "      <td>0.001767</td>\n",
       "      <td>0.00126</td>\n",
       "      <td>0.000892</td>\n",
       "      <td>0.000627</td>\n",
       "      <td>0.000437</td>\n",
       "    </tr>\n",
       "    <tr>\n",
       "      <th>1</th>\n",
       "      <td>0.000437</td>\n",
       "      <td>0.000627</td>\n",
       "      <td>0.000892</td>\n",
       "      <td>0.00126</td>\n",
       "      <td>0.001767</td>\n",
       "      <td>0.002459</td>\n",
       "      <td>0.003397</td>\n",
       "      <td>0.004659</td>\n",
       "      <td>0.006343</td>\n",
       "      <td>0.008572</td>\n",
       "      <td>...</td>\n",
       "      <td>0.008572</td>\n",
       "      <td>0.006343</td>\n",
       "      <td>0.004659</td>\n",
       "      <td>0.003397</td>\n",
       "      <td>0.002459</td>\n",
       "      <td>0.001767</td>\n",
       "      <td>0.00126</td>\n",
       "      <td>0.000892</td>\n",
       "      <td>0.000627</td>\n",
       "      <td>0.000437</td>\n",
       "    </tr>\n",
       "    <tr>\n",
       "      <th>2</th>\n",
       "      <td>0.000437</td>\n",
       "      <td>0.000627</td>\n",
       "      <td>0.000892</td>\n",
       "      <td>0.00126</td>\n",
       "      <td>0.001767</td>\n",
       "      <td>0.002459</td>\n",
       "      <td>0.003397</td>\n",
       "      <td>0.004659</td>\n",
       "      <td>0.006343</td>\n",
       "      <td>0.008572</td>\n",
       "      <td>...</td>\n",
       "      <td>0.008572</td>\n",
       "      <td>0.006343</td>\n",
       "      <td>0.004659</td>\n",
       "      <td>0.003397</td>\n",
       "      <td>0.002459</td>\n",
       "      <td>0.001767</td>\n",
       "      <td>0.00126</td>\n",
       "      <td>0.000892</td>\n",
       "      <td>0.000627</td>\n",
       "      <td>0.000437</td>\n",
       "    </tr>\n",
       "    <tr>\n",
       "      <th>3</th>\n",
       "      <td>0.000437</td>\n",
       "      <td>0.000627</td>\n",
       "      <td>0.000892</td>\n",
       "      <td>0.00126</td>\n",
       "      <td>0.001767</td>\n",
       "      <td>0.002459</td>\n",
       "      <td>0.003397</td>\n",
       "      <td>0.004659</td>\n",
       "      <td>0.006343</td>\n",
       "      <td>0.008572</td>\n",
       "      <td>...</td>\n",
       "      <td>0.008572</td>\n",
       "      <td>0.006343</td>\n",
       "      <td>0.004659</td>\n",
       "      <td>0.003397</td>\n",
       "      <td>0.002459</td>\n",
       "      <td>0.001767</td>\n",
       "      <td>0.00126</td>\n",
       "      <td>0.000892</td>\n",
       "      <td>0.000627</td>\n",
       "      <td>0.000437</td>\n",
       "    </tr>\n",
       "    <tr>\n",
       "      <th>4</th>\n",
       "      <td>0.000437</td>\n",
       "      <td>0.000627</td>\n",
       "      <td>0.000892</td>\n",
       "      <td>0.00126</td>\n",
       "      <td>0.001767</td>\n",
       "      <td>0.002459</td>\n",
       "      <td>0.003397</td>\n",
       "      <td>0.004659</td>\n",
       "      <td>0.006343</td>\n",
       "      <td>0.008572</td>\n",
       "      <td>...</td>\n",
       "      <td>0.008572</td>\n",
       "      <td>0.006343</td>\n",
       "      <td>0.004659</td>\n",
       "      <td>0.003397</td>\n",
       "      <td>0.002459</td>\n",
       "      <td>0.001767</td>\n",
       "      <td>0.00126</td>\n",
       "      <td>0.000892</td>\n",
       "      <td>0.000627</td>\n",
       "      <td>0.000437</td>\n",
       "    </tr>\n",
       "  </tbody>\n",
       "</table>\n",
       "<p>5 rows × 100 columns</p>\n",
       "</div>"
      ],
      "text/plain": [
       "         0         1         2        3         4         5         6   \\\n",
       "0  0.000437  0.000627  0.000892  0.00126  0.001767  0.002459  0.003397   \n",
       "1  0.000437  0.000627  0.000892  0.00126  0.001767  0.002459  0.003397   \n",
       "2  0.000437  0.000627  0.000892  0.00126  0.001767  0.002459  0.003397   \n",
       "3  0.000437  0.000627  0.000892  0.00126  0.001767  0.002459  0.003397   \n",
       "4  0.000437  0.000627  0.000892  0.00126  0.001767  0.002459  0.003397   \n",
       "\n",
       "         7         8         9   ...        90        91        92        93  \\\n",
       "0  0.004659  0.006343  0.008572  ...  0.008572  0.006343  0.004659  0.003397   \n",
       "1  0.004659  0.006343  0.008572  ...  0.008572  0.006343  0.004659  0.003397   \n",
       "2  0.004659  0.006343  0.008572  ...  0.008572  0.006343  0.004659  0.003397   \n",
       "3  0.004659  0.006343  0.008572  ...  0.008572  0.006343  0.004659  0.003397   \n",
       "4  0.004659  0.006343  0.008572  ...  0.008572  0.006343  0.004659  0.003397   \n",
       "\n",
       "         94        95       96        97        98        99  \n",
       "0  0.002459  0.001767  0.00126  0.000892  0.000627  0.000437  \n",
       "1  0.002459  0.001767  0.00126  0.000892  0.000627  0.000437  \n",
       "2  0.002459  0.001767  0.00126  0.000892  0.000627  0.000437  \n",
       "3  0.002459  0.001767  0.00126  0.000892  0.000627  0.000437  \n",
       "4  0.002459  0.001767  0.00126  0.000892  0.000627  0.000437  \n",
       "\n",
       "[5 rows x 100 columns]"
      ]
     },
     "execution_count": 5,
     "metadata": {},
     "output_type": "execute_result"
    }
   ],
   "source": [
    "print(train_lineshapes.shape)\n",
    "train_lineshapes[0:5] # first five lineshapes "
   ]
  },
  {
   "cell_type": "markdown",
   "metadata": {},
   "source": [
    "We can then train SVSA by passing these into the method and calling the fit function (with appropriate choices of nu and K)"
   ]
  },
  {
   "cell_type": "code",
   "execution_count": 6,
   "metadata": {},
   "outputs": [],
   "source": [
    "svs = svsa.SupportVectorSpectrum(train_params=train_params,train_lineshapes=train_lineshapes,train_x=xs)\n",
    "svs.fit(nu=1E-1,K=3)"
   ]
  },
  {
   "cell_type": "markdown",
   "metadata": {},
   "source": [
    "We can then predict a new line using the predict function passing in the values for the parameters at which we would like to predict the line"
   ]
  },
  {
   "cell_type": "code",
   "execution_count": 7,
   "metadata": {},
   "outputs": [],
   "source": [
    "test_params = np.array([[.8,2,1.9,1,1.5]]).T\n",
    "pred = svs.predict(test_params)"
   ]
  },
  {
   "cell_type": "markdown",
   "metadata": {},
   "source": [
    "we can then plot and compare it to Tenti's S6 model"
   ]
  },
  {
   "cell_type": "code",
   "execution_count": 8,
   "metadata": {},
   "outputs": [],
   "source": [
    "import pandas as pd\n",
    "from scipy.special import wofz"
   ]
  },
  {
   "cell_type": "code",
   "execution_count": 9,
   "metadata": {},
   "outputs": [
    {
     "data": {
      "image/png": "[encoded data removed]",
      "text/plain": [
       "<Figure size 432x288 with 1 Axes>"
      ]
     },
     "metadata": {
      "needs_background": "light"
     },
     "output_type": "display_data"
    }
   ],
   "source": [
    "import matplotlib.pyplot as plt\n",
    "tenti_line = svsa.crbs6(y=test_params[0,0],\n",
    "                           rlx_int=test_params[1],\n",
    "                           eukenf=test_params[2],\n",
    "                           c_int=test_params[3],\n",
    "                           c_tr=test_params[4],\n",
    "                           xi=np.linspace(-3,3,num=100))['sptsig']\n",
    "plt.plot(tenti_line,color='red')\n",
    "plt.plot(pred,color='blue')\n",
    "plt.show()"
   ]
  },
  {
   "cell_type": "markdown",
   "metadata": {},
   "source": [
    "we can also save the output from the fit coefficients as either a .mat file for MATLAB or as a collection of .csv files for other uses (like R)"
   ]
  },
  {
   "cell_type": "code",
   "execution_count": 10,
   "metadata": {},
   "outputs": [],
   "source": [
    "svs.save_fit(fname=\"test_fit\",type=\"mat\") # for use in matlab\n",
    "svs.save_fit(\"test_fit\",type='csv') # for use in other languages, e.g. R"
   ]
  }
 ],
 "metadata": {
  "jupytext": {
   "formats": "ipynb,py"
  },
  "kernelspec": {
   "display_name": "Python 3 (ipykernel)",
   "language": "python",
   "name": "python3"
  },
  "language_info": {
   "codemirror_mode": {
    "name": "ipython",
    "version": 3
   },
   "file_extension": ".py",
   "mimetype": "text/x-python",
   "name": "python",
   "nbconvert_exporter": "python",
   "pygments_lexer": "ipython3",
   "version": "3.8.10"
  }
 },
 "nbformat": 4,
 "nbformat_minor": 4
}
